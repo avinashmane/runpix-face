{
 "cells": [
  {
   "cell_type": "markdown",
   "metadata": {},
   "source": [
    "# RunPix Dev JS notebook\n",
    "\n",
    "## used only for developing parts"
   ]
  },
  {
   "cell_type": "code",
   "execution_count": 2,
   "metadata": {},
   "outputs": [
    {
     "output_type": "stream",
     "name": "stdout",
     "text": [
      "Current directory: /home/avinashmane/runpix-face/nb\n"
     ]
    },
    {
     "output_type": "execute_result",
     "data": {
      "text/plain": [
       "'init'"
      ]
     },
     "metadata": {},
     "execution_count": 2
    }
   ],
   "source": [
    "console.log('Current directory: ' + process.cwd());\n",
    "process.env.GOOGLE_APPLICATION_CREDENTIALS=''\n",
    "require('dotenv').config()\n",
    "\"init\""
   ]
  },
  {
   "source": [
    "# facedatabase"
   ],
   "cell_type": "markdown",
   "metadata": {}
  },
  {
   "cell_type": "code",
   "execution_count": 3,
   "metadata": {},
   "outputs": [
    {
     "output_type": "stream",
     "name": "stdout",
     "text": [
      "GOOGLE_APPLICATION_CREDENTIALS=\n"
     ]
    },
    {
     "output_type": "execute_result",
     "data": {
      "text/plain": [
       "{\n",
       "  listColls: [AsyncFunction (anonymous)],\n",
       "  getDocs: [AsyncFunction (anonymous)],\n",
       "  delDoc: [AsyncFunction (anonymous)],\n",
       "  setDoc: [AsyncFunction (anonymous)],\n",
       "  descriptor2fid: [Function (anonymous)],\n",
       "  fid2descriptor: [Function (anonymous)]\n",
       "}"
      ]
     },
     "metadata": {},
     "execution_count": 3
    }
   ],
   "source": [
    "fdb = require(\"../facedatabase\")"
   ]
  },
  {
   "cell_type": "code",
   "execution_count": 4,
   "metadata": {},
   "outputs": [
    {
     "output_type": "stream",
     "name": "stderr",
     "text": [
      "Error: 2 UNKNOWN: Getting metadata from plugin failed with error: Invalid response from the metadata service\n",
      "    at callErrorFromStatus (/home/avinashmane/runpix-face/node_modules/@grpc/grpc-js/build/src/call.js:31:19)\n",
      "    at Object.onReceiveStatus (/home/avinashmane/runpix-face/node_modules/@grpc/grpc-js/build/src/client.js:357:73)\n",
      "    at Object.onReceiveStatus (/home/avinashmane/runpix-face/node_modules/@grpc/grpc-js/build/src/client-interceptors.js:323:181)\n",
      "    at /home/avinashmane/runpix-face/node_modules/@grpc/grpc-js/build/src/resolving-call.js:94:78\n",
      "    at process.processTicksAndRejections (node:internal/process/task_queues:77:11)\n",
      "for call at\n",
      "    at ServiceClientImpl.makeServerStreamRequest (/home/avinashmane/runpix-face/node_modules/@grpc/grpc-js/build/src/client.js:340:32)\n",
      "    at ServiceClientImpl.<anonymous> (/home/avinashmane/runpix-face/node_modules/@grpc/grpc-js/build/src/make-client.js:105:19)\n",
      "    at /home/avinashmane/runpix-face/node_modules/@google-cloud/firestore/build/src/v1/firestore_client.js:227:29\n",
      "    at /home/avinashmane/runpix-face/node_modules/google-gax/build/src/streamingCalls/streamingApiCaller.js:38:28\n",
      "    at /home/avinashmane/runpix-face/node_modules/google-gax/build/src/normalCalls/timeout.js:44:16\n",
      "    at Object.request (/home/avinashmane/runpix-face/node_modules/google-gax/build/src/streamingCalls/streaming.js:130:40)\n",
      "    at Timeout.makeRequest [as _onTimeout] (/home/avinashmane/runpix-face/node_modules/retry-request/index.js:141:28)\n",
      "    at listOnTimeout (node:internal/timers:564:17)\n",
      "    at process.processTimers (node:internal/timers:507:7)\n",
      "Caused by: Error\n",
      "    at CollectionReference._get (/home/avinashmane/runpix-face/node_modules/@google-cloud/firestore/build/src/reference.js:1719:23)\n",
      "    at CollectionReference.get (/home/avinashmane/runpix-face/node_modules/@google-cloud/firestore/build/src/reference.js:1707:21)\n",
      "    at exports.getDocs (/home/avinashmane/runpix-face/facedatabase.js:18:42)\n",
      "    at evalmachine.<anonymous>:4:9\n",
      "    at evalmachine.<anonymous>:8:3\n",
      "    at Script.runInThisContext (node:vm:129:12)\n",
      "    at Object.runInThisContext (node:vm:313:38)\n",
      "    at run ([eval]:1020:15)\n",
      "    at onRunRequest ([eval]:864:18)\n",
      "    at onMessage ([eval]:828:13) {\n",
      "  code: 2,\n",
      "  details: 'Getting metadata from plugin failed with error: Invalid response from the metadata service',\n",
      "  metadata: Metadata { internalRepr: Map(0) {}, options: {} }\n",
      "}\n",
      "Hello, world!\n"
     ]
    },
    {
     "output_type": "execute_result",
     "data": {
      "text/plain": [
       "'Bye!'"
      ]
     },
     "metadata": {},
     "execution_count": 4
    }
   ],
   "source": [
    "$$.async();\n",
    "\n",
    "(function($$, console) {\n",
    "    fdb.getDocs(\"races\").then( x=> {\n",
    "        console.log(\"Hello, world!\");\n",
    "        $$.sendResult(\"Bye!\",x);\n",
    "    });\n",
    "})($$, console);\n"
   ]
  }
 ],
 "metadata": {
  "kernelspec": {
   "display_name": "JavaScript (Node.js)",
   "language": "javascript",
   "name": "javascript"
  },
  "language_info": {
   "file_extension": ".js",
   "mimetype": "application/javascript",
   "name": "javascript",
   "version": "18.14.0"
  }
 },
 "nbformat": 4,
 "nbformat_minor": 4
}