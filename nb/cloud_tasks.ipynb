{
 "metadata": {
  "language_info": {
   "codemirror_mode": {
    "name": "ipython",
    "version": 3
   },
   "file_extension": ".py",
   "mimetype": "text/x-python",
   "name": "python",
   "nbconvert_exporter": "python",
   "pygments_lexer": "ipython3",
   "version": "3.9.2-final"
  },
  "orig_nbformat": 2,
  "kernelspec": {
   "name": "python3",
   "display_name": "Python 3 (ipykernel)"
  }
 },
 "nbformat": 4,
 "nbformat_minor": 2,
 "cells": [
  {
   "cell_type": "code",
   "execution_count": 3,
   "metadata": {},
   "outputs": [
    {
     "output_type": "error",
     "ename": "SyntaxError",
     "evalue": "invalid syntax (2316988220.py, line 1)",
     "traceback": [
      "\u001b[0;36m  Cell \u001b[0;32mIn[3], line 1\u001b[0;36m\u001b[0m\n\u001b[0;31m    // Imports the Google Cloud client library\u001b[0m\n\u001b[0m    ^\u001b[0m\n\u001b[0;31mSyntaxError\u001b[0m\u001b[0;31m:\u001b[0m invalid syntax\n"
     ]
    }
   ],
   "source": [
    "// Imports the Google Cloud client library\n",
    "const {PubSub} = require('@google-cloud/pubsub');\n",
    "\n",
    "// Creates a client; cache this for further use\n",
    "const pubSubClient = new PubSub();\n",
    "\n",
    "async function publishMessage(topicNameOrId, data) {\n",
    "  // Publishes the message as a string, e.g. \"Hello, world!\" or JSON.stringify(someObject)\n",
    "  const dataBuffer = Buffer.from(data);\n",
    "\n",
    "  try {\n",
    "    const messageId = await pubSubClient\n",
    "      .topic(topicNameOrId)\n",
    "      .publishMessage({data: dataBuffer});\n",
    "    console.log(`Message ${messageId} published.`);\n",
    "  } catch (error) {\n",
    "    console.error(`Received error while publishing: ${error.message}`);\n",
    "    process.exitCode = 1;\n",
    "  }\n",
    "}"
   ]
  },
  {
   "cell_type": "code",
   "execution_count": null,
   "metadata": {},
   "outputs": [],
   "source": []
  }
 ]
}